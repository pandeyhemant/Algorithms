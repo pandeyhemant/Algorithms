{
 "cells": [
  {
   "cell_type": "markdown",
   "metadata": {},
   "source": [
    "### <center>Practical 7\n",
    "<center>Write a Program to find a family of subsets that covers the universal set\n"
   ]
  },
  {
   "cell_type": "code",
   "execution_count": 1,
   "metadata": {},
   "outputs": [
    {
     "name": "stdout",
     "output_type": "stream",
     "text": [
      "[{1, 2, 3, 8, 9, 10}, {4, 5, 7}, {5, 6, 7}]\n"
     ]
    }
   ],
   "source": [
    "def set_cover(universe, subsets):\n",
    "    \"\"\"Find a family of subsets that covers the universal set\"\"\"\n",
    "    elements = set(e for s in subsets for e in s)\n",
    "    # Check the subsets cover the universe\n",
    "    if elements != universe:\n",
    "        return None\n",
    "    covered = set()\n",
    "    cover = []\n",
    "    # Greedily add the subsets with the most uncovered points\n",
    "    while covered != elements:\n",
    "        subset = max(subsets, key=lambda s: len(s - covered))\n",
    "        cover.append(subset)\n",
    "        covered |= subset\n",
    "    return cover\n",
    " \n",
    "def main():\n",
    "    universe = set(range(1, 11))\n",
    "    subsets = [set([1, 2, 3, 8, 9, 10]),\n",
    "        set([1, 2, 3, 4, 5]),\n",
    "        set([4, 5, 7]),\n",
    "        set([5, 6, 7]),\n",
    "        set([6, 7, 8, 9, 10])]\n",
    "    cover = set_cover(universe, subsets)\n",
    "    print(cover)\n",
    " \n",
    "if __name__ == '__main__':\n",
    "    main()\n"
   ]
  },
  {
   "cell_type": "code",
   "execution_count": null,
   "metadata": {},
   "outputs": [],
   "source": []
  }
 ],
 "metadata": {
  "kernelspec": {
   "display_name": "Python 3",
   "language": "python",
   "name": "python3"
  },
  "language_info": {
   "codemirror_mode": {
    "name": "ipython",
    "version": 3
   },
   "file_extension": ".py",
   "mimetype": "text/x-python",
   "name": "python",
   "nbconvert_exporter": "python",
   "pygments_lexer": "ipython3",
   "version": "3.8.5"
  }
 },
 "nbformat": 4,
 "nbformat_minor": 4
}
