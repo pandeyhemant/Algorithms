{
 "cells": [
  {
   "cell_type": "markdown",
   "metadata": {},
   "source": [
    "### <center>Practical 5\n",
    "<center> Write a Program to Perform Folyd-Warshall algorithm\n"
   ]
  },
  {
   "cell_type": "code",
   "execution_count": 1,
   "metadata": {},
   "outputs": [
    {
     "name": "stdout",
     "output_type": "stream",
     "text": [
      "Following matrix shows the shortest Distance between every pair of vertices---> \n",
      "      0\t\n",
      "      5\t\n",
      "      8\t\n",
      "      9\t\n",
      "\n",
      "    inf\n",
      "      0\t\n",
      "      3\t\n",
      "      4\t\n",
      "\n",
      "    inf\n",
      "    inf\n",
      "      0\t\n",
      "      1\t\n",
      "\n",
      "    inf\n",
      "    inf\n",
      "    inf\n",
      "      0\t\n",
      "\n"
     ]
    }
   ],
   "source": [
    "# Python Program for Floyd Warshall Algorithm Number of vertices in the graph \n",
    "v=4\n",
    "# Define infinity as the large enough value. This value will be used for vertices not connected to each other \n",
    "inf=99999\n",
    "\n",
    "# Solves all pair shortest path via Floyd Warshall Algorithm \n",
    "def floydWarshall(graph):\n",
    "    \"\"\" dist[][] will be the output matrix that will finally \n",
    "        have the shortest distances between every pair of vertices\n",
    "        initializing the solution matrix same as input graph matrix \n",
    "        OR we can say that the initial values of shortest distances \n",
    "        are based on shortest paths considering no  \n",
    "        intermediate vertices \"\"\"\n",
    "    dist=list(map(lambda i:list(map(lambda j:j,i)),graph))\n",
    "    \n",
    "    \"\"\" Add all vertices one by one to the set of intermediate \n",
    "     vertices. \n",
    "     ---> Before start of an iteration, we have shortest distances \n",
    "     between all pairs of vertices such that the shortest \n",
    "     distances consider only the vertices in the set  \n",
    "    {0, 1, 2, .. k-1} as intermediate vertices. \n",
    "      ----> After the end of a iteration, vertex no. k is \n",
    "     added to the set of intermediate vertices and the  \n",
    "    set becomes {0, 1, 2, .. k} \n",
    "    \"\"\"\n",
    "    for k in range(v):\n",
    "        for i in range(v):   # pick all vertices as source one by one\n",
    "            for j in range(v):   # Pick all vertices as destination for the above picked source \n",
    "                dist[i][j] = min(dist[i][j],dist[i][k]+dist[k][j])\n",
    "                \n",
    "    printSolution(dist)\n",
    "\n",
    "# A utility function to print the solution \n",
    "def printSolution(dist):\n",
    "    print('Following matrix shows the shortest Distance between every pair of vertices---> ')\n",
    "    for i in range(v):\n",
    "        for j in range(v):\n",
    "            if (dist[i][j] == inf):\n",
    "                print(\"%7s\"%\"inf\")\n",
    "            else:\n",
    "                print(\"%7d\\t\" %(dist[i][j]))\n",
    "            if j ==v-1:\n",
    "                print('')\n",
    "\"\"\" Driver program to test the above program \n",
    "Let us create the following weighted graph \n",
    " \n",
    "            10 \n",
    "       (0)------->(3) \n",
    "        |         /|\\ \n",
    "      5 |          | \n",
    "        |          | 1 \n",
    "       \\|/         | \n",
    "       (1)------->(2) \n",
    "            3           \"\"\"\n",
    "\n",
    "graph = [[0,5,inf,10], \n",
    "             [inf,0,3,inf], \n",
    "             [inf, inf, 0,   1], \n",
    "             [inf, inf, inf, 0] ]\n",
    "# Print the solution \n",
    "floydWarshall(graph)\n"
   ]
  },
  {
   "cell_type": "code",
   "execution_count": null,
   "metadata": {},
   "outputs": [],
   "source": []
  }
 ],
 "metadata": {
  "kernelspec": {
   "display_name": "Python 3",
   "language": "python",
   "name": "python3"
  },
  "language_info": {
   "codemirror_mode": {
    "name": "ipython",
    "version": 3
   },
   "file_extension": ".py",
   "mimetype": "text/x-python",
   "name": "python",
   "nbconvert_exporter": "python",
   "pygments_lexer": "ipython3",
   "version": "3.8.5"
  }
 },
 "nbformat": 4,
 "nbformat_minor": 4
}
