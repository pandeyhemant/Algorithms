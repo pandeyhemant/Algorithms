{
 "cells": [
  {
   "cell_type": "markdown",
   "metadata": {},
   "source": [
    "###  <center>Practical 1\n",
    "<center>Program for Randomized Selection Algorithm"
   ]
  },
  {
   "cell_type": "code",
   "execution_count": 1,
   "metadata": {},
   "outputs": [
    {
     "name": "stdout",
     "output_type": "stream",
     "text": [
      "1\n",
      "3\n",
      "4\n",
      "7\n",
      "8\n",
      "9\n"
     ]
    }
   ],
   "source": [
    "from random import randrange\n",
    "\n",
    "def partition(x,pivot_index=0):\n",
    "    i=0\n",
    "    if pivot_index!=0:\n",
    "        x[0],x[pivot_index]=x[pivot_index],x[0]\n",
    "    for j in range(len(x)-1):\n",
    "        if x[j+1]<x[0]:\n",
    "            x[j+1],x[i+1]=x[i+1],x[j+1]\n",
    "            i+=1\n",
    "    x[0],x[i]=x[i],x[0]\n",
    "    return x,i\n",
    "\n",
    "def RSelect(x,k):\n",
    "    if len(x)==1:\n",
    "        return x[0]\n",
    "    else:\n",
    "        xpart=partition(x,randrange(len(x)))\n",
    "        x=xpart[0]\n",
    "        j=xpart[1]\n",
    "        if j==k:\n",
    "            return x[j]\n",
    "        elif j>k:\n",
    "            return RSelect(x[:j],k)\n",
    "\n",
    "\n",
    "\n",
    "\n",
    "        else:\n",
    "            k=k-j-1\n",
    "            return RSelect(x[(j+1):],k)\n",
    "x = [3,1,8,4,7,9]\n",
    "for i in range(len(x)):\n",
    "    print(RSelect(x,i))\n"
   ]
  },
  {
   "cell_type": "code",
   "execution_count": null,
   "metadata": {},
   "outputs": [],
   "source": []
  }
 ],
 "metadata": {
  "kernelspec": {
   "display_name": "Python 3",
   "language": "python",
   "name": "python3"
  },
  "language_info": {
   "codemirror_mode": {
    "name": "ipython",
    "version": 3
   },
   "file_extension": ".py",
   "mimetype": "text/x-python",
   "name": "python",
   "nbconvert_exporter": "python",
   "pygments_lexer": "ipython3",
   "version": "3.8.5"
  }
 },
 "nbformat": 4,
 "nbformat_minor": 4
}
