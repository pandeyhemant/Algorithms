{
 "cells": [
  {
   "cell_type": "markdown",
   "metadata": {},
   "source": [
    "### <center>Practical 4\n",
    "<center>Write a Program to Perform Bucket Sort Algorithm\n"
   ]
  },
  {
   "cell_type": "code",
   "execution_count": 1,
   "metadata": {},
   "outputs": [
    {
     "name": "stdout",
     "output_type": "stream",
     "text": [
      "Sorted Array is--> \n",
      "[0.1234, 0.3434, 0.565, 0.656, 0.665, 0.897]\n"
     ]
    }
   ],
   "source": [
    "def insertationSort(b):\n",
    "    for i in range(1,len(b)):\n",
    "        up=b[i]\n",
    "        j=i-1\n",
    "        while j>=0 and b[j]>up:\n",
    "            b[j+1]=b[j]\n",
    "            j -=1\n",
    "        b[j+1]=up\n",
    "    return(b)\n",
    "\n",
    "def bucketSort(x):\n",
    "    arr=[]\n",
    "    slot_num=10 \n",
    "    # 10 means 10 slots, each \n",
    "    # slot's size is 0.1\n",
    "    \n",
    "    for i in range(slot_num):\n",
    "        arr.append([])\n",
    "    \n",
    "    # Put array elements in different buckets  \n",
    "    for j in x: \n",
    "        index_b = int(slot_num * j)  \n",
    "        arr[index_b].append(j)\n",
    "        \n",
    "    # Sort individual buckets  \n",
    "    for i in range(slot_num):\n",
    "        arr[i]=insertationSort(arr[i])\n",
    "        \n",
    "    # concatenate the result\n",
    "    k=0\n",
    "    for i in range(slot_num):\n",
    "        for j in range(len(arr[i])): \n",
    "            x[k] = arr[i][j] \n",
    "            k += 1\n",
    "    return x\n",
    "\n",
    "# Driver Code\n",
    "x = [0.897, 0.565, 0.656, \n",
    "     0.1234, 0.665, 0.3434]  \n",
    "print(\"Sorted Array is--> \") \n",
    "print(bucketSort(x))\n"
   ]
  },
  {
   "cell_type": "code",
   "execution_count": null,
   "metadata": {},
   "outputs": [],
   "source": []
  }
 ],
 "metadata": {
  "kernelspec": {
   "display_name": "Python 3",
   "language": "python",
   "name": "python3"
  },
  "language_info": {
   "codemirror_mode": {
    "name": "ipython",
    "version": 3
   },
   "file_extension": ".py",
   "mimetype": "text/x-python",
   "name": "python",
   "nbconvert_exporter": "python",
   "pygments_lexer": "ipython3",
   "version": "3.8.5"
  }
 },
 "nbformat": 4,
 "nbformat_minor": 4
}
